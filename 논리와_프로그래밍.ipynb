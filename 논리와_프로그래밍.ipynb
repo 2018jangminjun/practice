{
  "nbformat": 4,
  "nbformat_minor": 0,
  "metadata": {
    "colab": {
      "provenance": [],
      "collapsed_sections": [],
      "authorship_tag": "ABX9TyNHjtNqUVPtZO9iuJpnkQIa",
      "include_colab_link": true
    },
    "kernelspec": {
      "name": "python3",
      "display_name": "Python 3"
    },
    "language_info": {
      "name": "python"
    }
  },
  "cells": [
    {
      "cell_type": "markdown",
      "metadata": {
        "id": "view-in-github",
        "colab_type": "text"
      },
      "source": [
        "<a href=\"https://colab.research.google.com/github/2018jangminjun/practice/blob/main/%EB%85%BC%EB%A6%AC%EC%99%80_%ED%94%84%EB%A1%9C%EA%B7%B8%EB%9E%98%EB%B0%8D.ipynb\" target=\"_parent\"><img src=\"https://colab.research.google.com/assets/colab-badge.svg\" alt=\"Open In Colab\"/></a>"
      ]
    },
    {
      "cell_type": "code",
      "source": [
        "#201804723 장민준\n",
        "a=1\n",
        "b=2\n",
        "print(a)\n",
        "print(b)\n",
        "print(a+b)"
      ],
      "metadata": {
        "colab": {
          "base_uri": "https://localhost:8080/"
        },
        "id": "LoMdaaGJoV7n",
        "outputId": "428c2630-2349-4044-d763-7000226c3518"
      },
      "execution_count": null,
      "outputs": [
        {
          "output_type": "stream",
          "name": "stdout",
          "text": [
            "1\n",
            "2\n",
            "3\n"
          ]
        }
      ]
    },
    {
      "cell_type": "code",
      "source": [
        "n = int(input(\"숫자입력:\"))\n",
        "\n",
        "if n<30:\n",
        "  for i in range(1,n+1):\n",
        "   for j in range(1,i+1):\n",
        "    print(j,end=\"\")\n",
        "   print()\n",
        "else:\n",
        "  print(\"숫자가 너무 큽니다.\")"
      ],
      "metadata": {
        "colab": {
          "base_uri": "https://localhost:8080/"
        },
        "id": "VtKkSC2ti5r5",
        "outputId": "f6ae6a41-aa76-434e-b6d3-3751471e3fe8"
      },
      "execution_count": null,
      "outputs": [
        {
          "output_type": "stream",
          "name": "stdout",
          "text": [
            "숫자입력:32\n",
            "숫자가 너무 큽니다.\n"
          ]
        }
      ]
    },
    {
      "cell_type": "code",
      "execution_count": null,
      "metadata": {
        "colab": {
          "base_uri": "https://localhost:8080/"
        },
        "id": "msJMMrtFbh56",
        "outputId": "7e0787c2-48e0-4fc0-d9a4-402af15934c8"
      },
      "outputs": [
        {
          "output_type": "stream",
          "name": "stdout",
          "text": [
            "숫자입력:tt\n",
            "정수로 입력하세요\n"
          ]
        }
      ],
      "source": [
        "n = input(\"숫자입력:\")\n",
        "\n",
        "if n.isdecimal() == False:\n",
        "    print(\"정수로 입력하세요\")\n",
        "\n",
        "else:    \n",
        "    if int(n)<30:\n",
        "     for i in range(1,int(n)+1):\n",
        "       for j in range(1,i+1):\n",
        "        print(j,end=\"\")\n",
        "       print()\n",
        "    else:\n",
        "      print(\"숫자가 너무 큽니다.\")\n",
        "\n",
        "\n",
        "     \n",
        "\n",
        "\n"
      ]
    }
  ]
}